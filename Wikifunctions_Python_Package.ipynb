{
  "cells": [
    {
      "cell_type": "code",
      "source": [
        "import requests\n",
        "import json\n",
        "\n",
        "#get function implementation\n",
        "class Function:\n",
        "    #Initializing Function class\n",
        "    def __init__(self, zid):\n",
        "        self.zid =  zid\n",
        "    #Retrieving implementation code\n",
        "    def get_func(self):\n",
        "        f = requests.get(\"https://www.wikifunctions.org/w/api.php?action=wikilambda_fetch&format=json&zids=\"+self.zid+\"&formatversion=2\")\n",
        "        func = f.json()\n",
        "        impl = json.loads(func[self.zid][\"wikilambda_fetch\"])[\"Z2K2\"][\"Z14K3\"][\"Z16K2\"]\n",
        "        return impl\n",
        "    def get_desc(self):\n",
        "        f = requests.get(\"https://www.wikifunctions.org/w/api.php?action=wikilambda_fetch&format=json&zids=\"+self.zid+\"&formatversion=2\")\n",
        "        func = f.json()\n",
        "        desc = json.loads(func[self.zid][\"wikilambda_fetch\"])[\"Z2K2\"][\"Z14K1\"]\n",
        "        f1 = requests.get(\"https://www.wikifunctions.org/w/api.php?action=wikilambda_fetch&format=json&zids=\"+desc+\"&formatversion=2\")\n",
        "        func1 = f1.json()\n",
        "        #Getting function names\n",
        "        s = json.loads(func1[desc][\"wikilambda_fetch\"])[\"Z2K3\"][\"Z12K1\"]\n",
        "        names = {}\n",
        "        for i in range(1, len(s)):\n",
        "          names[s[i][\"Z11K1\"]] = s[i][\"Z11K2\"]\n",
        "        #Getting function descriptions\n",
        "        s = json.loads(func1[desc][\"wikilambda_fetch\"])[\"Z2K5\"][\"Z12K1\"]\n",
        "        descriptions = {}\n",
        "        for i in range(1, len(s)):\n",
        "          descriptions[s[i][\"Z11K1\"]] = s[i][\"Z11K2\"]\n",
        "        #Getting argument names and descriptions\n",
        "        s = json.loads(func1[desc][\"wikilambda_fetch\"])[\"Z2K2\"][\"Z8K1\"]\n",
        "        types = {}\n",
        "        vars = {}\n",
        "        for i in range(1, len(s)):\n",
        "          types[s[i][\"Z17K2\"]] = s[i][\"Z17K1\"]\n",
        "          for j in s[i][\"Z17K3\"][\"Z12K1\"][1:]:\n",
        "            vars[s[i][\"Z17K2\"], j[\"Z11K1\"]] = j[\"Z11K2\"]\n",
        "        return names, descriptions, types, vars"
      ],
      "metadata": {
        "id": "0tD7ayLHzaom"
      },
      "execution_count": 113,
      "outputs": []
    },
    {
      "cell_type": "code",
      "source": [
        "#Define the function\n",
        "bmi = Function(\"Z12774\")"
      ],
      "metadata": {
        "id": "LlXkRW8FIj__"
      },
      "execution_count": 114,
      "outputs": []
    },
    {
      "cell_type": "code",
      "source": [
        "#Load the implementation\n",
        "exec(bmi.get_func())"
      ],
      "metadata": {
        "id": "rCGf1knPI0nx"
      },
      "execution_count": 115,
      "outputs": []
    },
    {
      "cell_type": "code",
      "source": [
        "#Run the loaded function\n",
        "Z12526(\"80\", \"1.8\")"
      ],
      "metadata": {
        "id": "XNURugDK3q2r",
        "outputId": "04f58a03-098f-49fd-cfea-fb45a54d17e3",
        "colab": {
          "base_uri": "https://localhost:8080/",
          "height": 36
        }
      },
      "execution_count": 116,
      "outputs": [
        {
          "output_type": "execute_result",
          "data": {
            "text/plain": [
              "'24.691358024691358'"
            ],
            "application/vnd.google.colaboratory.intrinsic+json": {
              "type": "string"
            }
          },
          "metadata": {},
          "execution_count": 116
        }
      ]
    },
    {
      "cell_type": "code",
      "source": [
        "#Extract all function names and descriptions as well as argument types and names\n",
        "names, descriptions, types, vars = bmi.get_desc()"
      ],
      "metadata": {
        "id": "VJv3CbkNKHAp"
      },
      "execution_count": 117,
      "outputs": []
    },
    {
      "cell_type": "code",
      "source": [
        "#Function name in English\n",
        "names[\"Z1002\"]"
      ],
      "metadata": {
        "colab": {
          "base_uri": "https://localhost:8080/",
          "height": 36
        },
        "id": "IueitikQNPf6",
        "outputId": "58f99b4f-747d-4b21-9426-9b7c5c0898c0"
      },
      "execution_count": 118,
      "outputs": [
        {
          "output_type": "execute_result",
          "data": {
            "text/plain": [
              "'(!) Body Mass Index (metric)'"
            ],
            "application/vnd.google.colaboratory.intrinsic+json": {
              "type": "string"
            }
          },
          "metadata": {},
          "execution_count": 118
        }
      ]
    },
    {
      "cell_type": "code",
      "source": [
        "#Function description in English\n",
        "descriptions[\"Z1002\"]"
      ],
      "metadata": {
        "colab": {
          "base_uri": "https://localhost:8080/",
          "height": 36
        },
        "id": "Fi3HsK8cNTwn",
        "outputId": "49b9e485-d119-49d5-e9b1-77b809147e93"
      },
      "execution_count": 119,
      "outputs": [
        {
          "output_type": "execute_result",
          "data": {
            "text/plain": [
              "'Calculate a BMI given a mass in kilograms and height in meters'"
            ],
            "application/vnd.google.colaboratory.intrinsic+json": {
              "type": "string"
            }
          },
          "metadata": {},
          "execution_count": 119
        }
      ]
    },
    {
      "cell_type": "code",
      "source": [
        "#Variable type\n",
        "types[\"Z12526K1\"]"
      ],
      "metadata": {
        "colab": {
          "base_uri": "https://localhost:8080/",
          "height": 36
        },
        "id": "DyYE6I_jNYx5",
        "outputId": "bc1c00bb-843c-443a-9f24-cc80bec813af"
      },
      "execution_count": 120,
      "outputs": [
        {
          "output_type": "execute_result",
          "data": {
            "text/plain": [
              "'Z6'"
            ],
            "application/vnd.google.colaboratory.intrinsic+json": {
              "type": "string"
            }
          },
          "metadata": {},
          "execution_count": 120
        }
      ]
    },
    {
      "cell_type": "code",
      "source": [
        "#Variable name in English\n",
        "vars[\"Z12526K1\", \"Z1002\"]"
      ],
      "metadata": {
        "colab": {
          "base_uri": "https://localhost:8080/",
          "height": 36
        },
        "id": "UfFNpm6cOE4B",
        "outputId": "4b4e58d3-4dec-455d-a67f-0c42e112a763"
      },
      "execution_count": 122,
      "outputs": [
        {
          "output_type": "execute_result",
          "data": {
            "text/plain": [
              "'kilograms'"
            ],
            "application/vnd.google.colaboratory.intrinsic+json": {
              "type": "string"
            }
          },
          "metadata": {},
          "execution_count": 122
        }
      ]
    }
  ],
  "metadata": {
    "colab": {
      "provenance": []
    },
    "gpuClass": "standard",
    "kernelspec": {
      "display_name": "Python 3",
      "name": "python3"
    },
    "language_info": {
      "name": "python"
    }
  },
  "nbformat": 4,
  "nbformat_minor": 0
}